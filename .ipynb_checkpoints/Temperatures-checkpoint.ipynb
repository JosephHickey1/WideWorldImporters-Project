{
 "cells": [
  {
   "cell_type": "code",
   "execution_count": 1,
   "metadata": {},
   "outputs": [],
   "source": [
    "import pandas as pd\n",
    "import pyodbc\n",
    "from Connection import Cnxn"
   ]
  },
  {
   "cell_type": "code",
   "execution_count": 2,
   "metadata": {},
   "outputs": [],
   "source": [
    "cnxn, cnxn_str = Cnxn()"
   ]
  },
  {
   "cell_type": "code",
   "execution_count": 3,
   "metadata": {},
   "outputs": [],
   "source": [
    "room_data = pd.read_sql(\"SELECT TOP(2000) RecordedWhen, ColdRoomSensorNumber, Temperature FROM Warehouse.ColdRoomTemperatures_Archive ORDER BY RecordedWhen, ColdRoomSensorNumber\", cnxn)\n",
    "\n",
    "vehicle_data = pd.read_sql(\"SELECT TOP(2000) VehicleRegistration, RecordedWhen, ChillerSensorNumber, Temperature FROM Warehouse.VehicleTemperatures ORDER BY VehicleRegistration, RecordedWhen, ChillerSensorNumber\", cnxn)"
   ]
  },
  {
   "cell_type": "code",
   "execution_count": 20,
   "metadata": {},
   "outputs": [],
   "source": [
    "room_curr = room_data['Temperature'][0]\n",
    "vehicle_curr = vehicle_data['Temperature'][0]"
   ]
  },
  {
   "cell_type": "code",
   "execution_count": 22,
   "metadata": {},
   "outputs": [
    {
     "name": "stdout",
     "output_type": "stream",
     "text": [
      "The current temperature in the chiller room is: 4.27\n",
      "The current temperature in the vehicle chiller is: 3.58\n"
     ]
    }
   ],
   "source": [
    "print(f\"The current temperature in the chiller room is: {room_curr}\\nThe current temperature in the vehicle chiller is: {vehicle_curr}\")"
   ]
  },
  {
   "cell_type": "code",
   "execution_count": null,
   "metadata": {},
   "outputs": [],
   "source": []
  },
  {
   "cell_type": "code",
   "execution_count": null,
   "metadata": {},
   "outputs": [],
   "source": []
  },
  {
   "cell_type": "code",
   "execution_count": null,
   "metadata": {},
   "outputs": [],
   "source": []
  },
  {
   "cell_type": "code",
   "execution_count": null,
   "metadata": {},
   "outputs": [],
   "source": []
  }
 ],
 "metadata": {
  "kernelspec": {
   "display_name": "Python 3",
   "language": "python",
   "name": "python3"
  },
  "language_info": {
   "codemirror_mode": {
    "name": "ipython",
    "version": 3
   },
   "file_extension": ".py",
   "mimetype": "text/x-python",
   "name": "python",
   "nbconvert_exporter": "python",
   "pygments_lexer": "ipython3",
   "version": "3.8.3"
  }
 },
 "nbformat": 4,
 "nbformat_minor": 4
}
