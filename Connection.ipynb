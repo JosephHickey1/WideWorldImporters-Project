{
 "cells": [
  {
   "cell_type": "markdown",
   "metadata": {},
   "source": [
    "Establishes secure connection to SQL Server database."
   ]
  },
  {
   "cell_type": "code",
   "execution_count": 1,
   "metadata": {},
   "outputs": [],
   "source": [
    "# pyodbc is an open source python <==> sql interface allowing sql code to be run in python code\n",
    "import pyodbc\n",
    "# getpass keeps an input password from being written to the filestream in plaintext\n",
    "from getpass import getpass"
   ]
  },
  {
   "cell_type": "code",
   "execution_count": 2,
   "metadata": {},
   "outputs": [],
   "source": [
    "# Creates a pyodbc connection \n",
    "def Cnxn(ip='24.251.129.86', server='PEREGRINE\\SQLEXPRESS', database='WideWorldImporters'):\n",
    "    # server optionally takes the filepath of the target server defaulting to my local server\n",
    "    # database optionally takes the name of the target database defaulting to WWI for this project\n",
    "    # username optionally takes a UID variable only used if not a trusted connection\n",
    "    # Returns a connection object and a functional connection string for use with pandas\n",
    "    \n",
    "    # Fixes -151 case connection error\n",
    "    def HandleHierarchyId(v):\n",
    "        return str(v)\n",
    "    \n",
    "    # Begins by trying to connect as a trusted connection using environment variables\n",
    "    try:\n",
    "        # Constructs the connection string\n",
    "        connection_str = 'Driver={SQL Server Native Client 11.0};' + f'Server={server};Database={database};Trusted_Connection=yes;'\n",
    "        # Forms connection and handles -151 error\n",
    "        connection = pyodbc.connect(connection_str)\n",
    "        connection.add_output_converter(-151, HandleHierarchyId)\n",
    "        # Turns off autocommit to reduce the chances of a mistaken transaction\n",
    "        connection.autocommit = False\n",
    "        \n",
    "    \n",
    "    except:\n",
    "        \n",
    "        try:\n",
    "            # Constructs the alternate connection string querying a password\n",
    "            server = str(ip) + '\\SQLEXPRESS'\n",
    "            connection_str = 'Driver={SQL Server Native Client 11.0};' + f'Server={server};Database={database};UID={str(\"Enter your UID: \")};PWD={str(getpass(prompt=\"Enter your password: \"))}\"'\n",
    "            # Forms connection and handles -151 error\n",
    "            connection = pyodbc.connect(connection_str)\n",
    "            connection.add_output_converter(-151, HandleHierarchyId)\n",
    "            # Turns off autocommit to reduce the chances of a mistaken transaction\n",
    "            connection.autocommit = False\n",
    "            \n",
    "        # Handles errors associated with a bad UID or PWD\n",
    "        except InterfaceError:\n",
    "            print(\"An InterFace Error has occurred. Please check that the username and password entered are correct and try again.\")\n",
    "        \n",
    "    # Returns the connection and string\n",
    "    finally:\n",
    "        return connection, connection_str\n",
    "        \n",
    "    \n",
    "    "
   ]
  },
  {
   "cell_type": "markdown",
   "metadata": {},
   "source": [
    "## Unit Test"
   ]
  },
  {
   "cell_type": "code",
   "execution_count": 3,
   "metadata": {},
   "outputs": [
    {
     "name": "stdout",
     "output_type": "stream",
     "text": [
      "   CityID    CityName  StateProvinceID  \\\n",
      "0       1  Aaronsburg               39   \n",
      "1       3      Abanda                1   \n",
      "2       4   Abbeville               42   \n",
      "3       5   Abbeville               11   \n",
      "4       6   Abbeville                1   \n",
      "5       7   Abbeville               19   \n",
      "6       8   Abbeville               25   \n",
      "7       9  Abbotsford               52   \n",
      "8      10      Abbott               45   \n",
      "9      11      Abbott                4   \n",
      "\n",
      "                                            Location  \\\n",
      "0  b'\\xe6\\x10\\x00\\x00\\x01\\x0c\\x07\\xe1\\x1bT,sD@\\x8...   \n",
      "1  b'\\xe6\\x10\\x00\\x00\\x01\\x0c@3\\x88\\x0f\\xec\\x8c@@...   \n",
      "2  b'\\xe6\\x10\\x00\\x00\\x01\\x0cy\\xc89V\\xce\\x16A@\\xc...   \n",
      "3  b'\\xe6\\x10\\x00\\x00\\x01\\x0c\\xde! \\xba\\xfb\\xfd?@...   \n",
      "4  b'\\xe6\\x10\\x00\\x00\\x01\\x0c\\x9d\\xb3\\xaa\\xcac\\x9...   \n",
      "5  b'\\xe6\\x10\\x00\\x00\\x01\\x0c4\\n\\xee\\xac\\x82\\xf9=...   \n",
      "6  b'\\xe6\\x10\\x00\\x00\\x01\\x0c\\xa7\\x97s\\x84g@A@\\x8...   \n",
      "7  b'\\xe6\\x10\\x00\\x00\\x01\\x0c\\xcb/\\x831\"yF@0c\\n\\x...   \n",
      "8  b'\\xe6\\x10\\x00\\x00\\x01\\x0c\\xe4Z\\xfe\\x8d\\x87\\xe...   \n",
      "9  b'\\xe6\\x10\\x00\\x00\\x01\\x0c\\xba\\x08\\x9d!f\\x89A@...   \n",
      "\n",
      "   LatestRecordedPopulation  LastEditedBy  ValidFrom  \\\n",
      "0                       613             1 2013-01-01   \n",
      "1                       192             1 2013-01-01   \n",
      "2                      5237             1 2013-01-01   \n",
      "3                      2908             1 2013-01-01   \n",
      "4                      2688             1 2013-01-01   \n",
      "5                     12257             1 2013-01-01   \n",
      "6                       419             1 2013-01-01   \n",
      "7                      2310             1 2013-01-01   \n",
      "8                       356             1 2013-01-01   \n",
      "9                       356             1 2013-01-01   \n",
      "\n",
      "                      ValidTo  \n",
      "0  9999-12-31 23:59:59.999999  \n",
      "1  9999-12-31 23:59:59.999999  \n",
      "2  9999-12-31 23:59:59.999999  \n",
      "3  9999-12-31 23:59:59.999999  \n",
      "4  9999-12-31 23:59:59.999999  \n",
      "5  9999-12-31 23:59:59.999999  \n",
      "6  9999-12-31 23:59:59.999999  \n",
      "7  9999-12-31 23:59:59.999999  \n",
      "8  9999-12-31 23:59:59.999999  \n",
      "9  9999-12-31 23:59:59.999999  \n"
     ]
    }
   ],
   "source": [
    "if __name__ == \"__main__\":\n",
    "    import pandas as pd\n",
    "    cnxn, cnxn_str = Cnxn('24.251.129.86')\n",
    "    data = pd.read_sql(\"SELECT TOP(10) * FROM Application.Cities\", cnxn)\n",
    "    print(data)\n",
    "    \n",
    "    "
   ]
  }
 ],
 "metadata": {
  "kernelspec": {
   "display_name": "Python 3",
   "language": "python",
   "name": "python3"
  },
  "language_info": {
   "codemirror_mode": {
    "name": "ipython",
    "version": 3
   },
   "file_extension": ".py",
   "mimetype": "text/x-python",
   "name": "python",
   "nbconvert_exporter": "python",
   "pygments_lexer": "ipython3",
   "version": "3.8.3"
  }
 },
 "nbformat": 4,
 "nbformat_minor": 4
}
