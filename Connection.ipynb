{
 "cells": [
  {
   "cell_type": "markdown",
   "metadata": {},
   "source": [
    "Establishes secure connection to SQL Server database."
   ]
  },
  {
   "cell_type": "code",
   "execution_count": 1,
   "metadata": {},
   "outputs": [],
   "source": [
    "# pyodbc is an open source python <==> sql interface allowing sql code to be run in python code\n",
    "import pyodbc\n",
    "# getpass keeps an input password from being written to the filestream in plaintext\n",
    "from getpass import getpass"
   ]
  },
  {
   "cell_type": "code",
   "execution_count": 2,
   "metadata": {},
   "outputs": [],
   "source": [
    "# Creates a pyodbc connection \n",
    "def Cnxn(server='PEREGRINE\\SQLEXPRESS', database='WideWorldImporters', username=None):\n",
    "    # server optionally takes the filepath of the target server defaulting to my local server\n",
    "    # database optionally takes the name of the target database defaulting to WWI for this project\n",
    "    # username optionally takes a UID variable only used if not a trusted connection\n",
    "    # Returns a connection object and a functional connection string for use with pandas\n",
    "    \n",
    "    # Fixes -151 case connection error\n",
    "    def HandleHierarchyId(v):\n",
    "        return str(v)\n",
    "    \n",
    "    # Begins by trying to connect as a trusted connection using environment variables\n",
    "    try:\n",
    "        # Constructs the connection string\n",
    "        connection_str = 'Driver={SQL Server Native Client 11.0};' + f'Server={server};Database={database};Trusted_Connection=yes;'\n",
    "        # Forms connection and handles -151 error\n",
    "        connection = pyodbc.connect(connection_str)\n",
    "        connection.add_output_converter(-151, HandleHierarchyId)\n",
    "        # Turns off autocommit to reduce the chances of a mistaken transaction\n",
    "        connection.autocommit = False\n",
    "        \n",
    "    \n",
    "    except:\n",
    "        \n",
    "        try:\n",
    "            # Constructs the alternate connection string querying a password\n",
    "            connection_str = 'Driver={SQL Server Native Client 11.0};' + f'Server={server};Database={database};UID={username};PWD={str(getpass(prompt=\"Enter your password: \"))}\"'\n",
    "            # Forms connection and handles -151 error\n",
    "            connection = pyodbc.connect(connection_str)\n",
    "            connection.add_output_converter(-151, HandleHierarchyId)\n",
    "            # Turns off autocommit to reduce the chances of a mistaken transaction\n",
    "            connection.autocommit = False\n",
    "            \n",
    "        # Handles errors associated with a bad UID or PWD\n",
    "        except InterfaceError:\n",
    "            print(\"An InterFace Error has occurred. Please check that the username and password entered are correct and try again.\")\n",
    "        \n",
    "    # Returns the connection and string\n",
    "    finally:\n",
    "        return connection, connection_str\n",
    "        \n",
    "    \n",
    "    "
   ]
  }
 ],
 "metadata": {
  "kernelspec": {
   "display_name": "Python 3",
   "language": "python",
   "name": "python3"
  },
  "language_info": {
   "codemirror_mode": {
    "name": "ipython",
    "version": 3
   },
   "file_extension": ".py",
   "mimetype": "text/x-python",
   "name": "python",
   "nbconvert_exporter": "python",
   "pygments_lexer": "ipython3",
   "version": "3.8.3"
  }
 },
 "nbformat": 4,
 "nbformat_minor": 4
}
